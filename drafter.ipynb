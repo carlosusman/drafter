{
 "cells": [
  {
   "cell_type": "code",
   "execution_count": null,
   "id": "b17b3c97-5f06-456e-9f1e-152ead1b092f",
   "metadata": {},
   "outputs": [],
   "source": [
    "from typing import Annotated, Sequence, TypedDict\n",
    "from langchain_core.messages import BaseMessage, HumanMessage, AIMessage # The foundational class for all message types in LangGraph\n",
    "from langchain_core.messages import ToolMessage # Passes data back to LLM after it calls a tool such as the content and the tool_call_id\n",
    "from langchain_core.messages import SystemMessage # Message for providing instructions to the LLM\n",
    "from langchain_openai import ChatOpenAI\n",
    "from langchain_core.tools import tool\n",
    "from langgraph.graph.message import add_messages\n",
    "from langgraph.graph import StateGraph, END\n",
    "from langgraph.prebuilt import ToolNode\n",
    "from langchain.chat_models import init_chat_model\n",
    "from dotenv import load_dotenv\n",
    "from openai import OpenAI\n",
    "import os"
   ]
  },
  {
   "cell_type": "code",
   "execution_count": null,
   "id": "6bc78dac",
   "metadata": {},
   "outputs": [],
   "source": [
    "load_dotenv()\n",
    "api_key = os.getenv(\"OPENAI_API_KEY\")\n",
    "client = OpenAI(api_key=api_key)"
   ]
  },
  {
   "cell_type": "code",
   "execution_count": 81,
   "id": "49116b33-43ff-4797-b9c5-0e21d9f52506",
   "metadata": {},
   "outputs": [],
   "source": [
    "class AgentState(TypedDict):\n",
    "    messages: Annotated[Sequence[BaseMessage], add_messages]\n",
    "\n",
    "document_content = \"\"\n",
    "\n",
    "@tool\n",
    "def update(content: str) -> str:\n",
    "    \"\"\"Updates the document with the provided content.\"\"\"\n",
    "    \n",
    "    global document_content\n",
    "    document_content = content\n",
    "    return f\"Document content have been updated succesfuly. Current content is \\n{document_content}\"\n",
    "\n",
    "@tool\n",
    "def save(filename: str) -> str:\n",
    "    \"\"\"Save the current document to a text file and finish the process.\n",
    "    \n",
    "    Args:\n",
    "        filename: Name for the text file.\n",
    "    \"\"\"\n",
    "\n",
    "    global document_content\n",
    "\n",
    "    if not filename.endswith(\".txt\"):\n",
    "        filename = f\"{filename}.txt\"\n",
    "\n",
    "    try:\n",
    "        with open(filename, 'w') as file:\n",
    "            file.write(document_content)\n",
    "        return(f\"Document saved in the text file {filename}\")\n",
    "    except Exception as e:\n",
    "        return f\"Error saving file {str(e)}\"\n",
    "\n",
    "tools = [update, save]"
   ]
  },
  {
   "cell_type": "code",
   "execution_count": null,
   "id": "237b2efc-5350-4d82-86eb-65d43806be11",
   "metadata": {},
   "outputs": [],
   "source": [
    "llm = init_chat_model('openai:gpt-4o').bind_tools(tools)"
   ]
  },
  {
   "cell_type": "code",
   "execution_count": 83,
   "id": "40d7dfeb-569a-40b5-b909-b4bae086a5bf",
   "metadata": {},
   "outputs": [],
   "source": [
    "def model_call(state: AgentState) -> AgentState:\n",
    "    system_prompt = SystemMessage(content=f\"\"\"\n",
    "    You are Drafter, a helpful writing assistant. You are going to help the user update and modify documents.\n",
    "    \n",
    "    - If the user wants to update or modify content, use the 'update' tool with the complete updated content.\n",
    "    - If the user wants to save and finish, you need to use the 'save' tool.\n",
    "    - Make sure to always show the current document state after modifications.\n",
    "    \n",
    "    The current document content is:{document_content}\n",
    "    \"\"\")\n",
    "\n",
    "    if not state[\"messages\"]:\n",
    "        user_input = \"I'm ready to help you update a document. What would you like to create?\"\n",
    "        user_message = HumanMessage(content=user_input)\n",
    "    else:\n",
    "        user_input = input(\"\\nWhat would you like to do with the document? \") \n",
    "        print(f\"\\n👤 USER: {user_input}\")\n",
    "        user_message = HumanMessage(content=user_input)\n",
    "\n",
    "    all_messages = [system_prompt] + list(state[\"messages\"]) + [user_message]\n",
    "\n",
    "    response = llm.invoke(all_messages)\n",
    "\n",
    "    print(f\"\\n🤖 AI: {response.content}\")\n",
    "    if hasattr(response, \"tool_calls\") and response.tool_calls:\n",
    "        print(f\"🔧 USING TOOLS: {[tc['name'] for tc in response.tool_calls]}\")\n",
    "\n",
    "    return {\"messages\": list(state[\"messages\"]) + [user_message, response]}\n"
   ]
  },
  {
   "cell_type": "code",
   "execution_count": 84,
   "id": "1f29877f-17c1-4e81-945e-a3dfd8ebf9df",
   "metadata": {},
   "outputs": [],
   "source": [
    "def should_continue(state: AgentState) -> str:\n",
    "    \"\"\" Determine if we should continue or end the conversation. \"\"\"\n",
    "\n",
    "    messages = state[\"messages\"]\n",
    "    \n",
    "    if not messages:\n",
    "        return \"continue\"\n",
    "    \n",
    "    # This looks for the most recent tool message....\n",
    "    for message in reversed(messages):\n",
    "        # ... and checks if this is a ToolMessage resulting from save\n",
    "        if (isinstance(message, ToolMessage) and \n",
    "            \"saved\" in message.content.lower() and\n",
    "            \"document\" in message.content.lower()):\n",
    "            return \"end\" # goes to the end edge which leads to the endpoint\n",
    "        \n",
    "    return \"continue\"\n",
    "\n",
    "def print_messages(messages):\n",
    "    \"\"\" Function I made to print the messages in a more readable format \"\"\"\n",
    "    if not messages:\n",
    "        return\n",
    "    \n",
    "    for message in messages[-3:]:\n",
    "        if isinstance(message, ToolMessage):\n",
    "            print(f\"\\n🛠️ TOOL RESULT: {message.content}\")"
   ]
  },
  {
   "cell_type": "code",
   "execution_count": 85,
   "id": "13adf309-1b2b-4f29-9531-759ebdf48a5e",
   "metadata": {},
   "outputs": [],
   "source": [
    "graph =  StateGraph(AgentState)\n",
    "\n",
    "graph.add_node(\"model\", model_call)\n",
    "graph.add_node(\"tools\", ToolNode(tools))\n",
    "\n",
    "graph.set_entry_point(\"model\")\n",
    "graph.add_edge(\"model\", \"tools\")\n",
    "\n",
    "graph.add_conditional_edges(\n",
    "    \"tools\",\n",
    "    should_continue,\n",
    "    { \"continue\": \"model\",\n",
    "      \"end\": END }\n",
    ")\n",
    "\n",
    "app = graph.compile()"
   ]
  },
  {
   "cell_type": "code",
   "execution_count": 86,
   "id": "fc67d86a-d90b-4946-906a-d2439132feca",
   "metadata": {},
   "outputs": [
    {
     "data": {
      "image/png": "[encoded data removed]",
      "text/plain": [
       "<IPython.core.display.Image object>"
      ]
     },
     "metadata": {},
     "output_type": "display_data"
    }
   ],
   "source": [
    "from IPython.display import Image, display\n",
    "display(Image(app.get_graph().draw_mermaid_png()))"
   ]
  },
  {
   "cell_type": "code",
   "execution_count": 89,
   "id": "e80a80d7-f933-4aa3-b78f-dd8139087410",
   "metadata": {
    "scrolled": true
   },
   "outputs": [
    {
     "name": "stdout",
     "output_type": "stream",
     "text": [
      "In a bustling city lived a meticulous man named Save. His job was to save everything: documents, memories, and even broken dreams. With a trusty backpack of tools, he ventured through life, ensuring nothing valuable was ever lost. Save believed in second chances and the magic of preservation.\n",
      "\n",
      "One day, he stumbled upon an ancient library, forgotten by time. Its crumbling walls whispered secrets of the past. Save spent days exploring its dusty aisles, rescuing stories from oblivion. In doing so, he discovered his own story, woven into the tapestry of humanity.\n",
      "\n",
      "Author: Carlos\n"
     ]
    }
   ],
   "source": [
    "def run_document_agent():\n",
    "    print(\"\\n ===== DRAFTER =====\")\n",
    "    \n",
    "    state = {\"messages\": []}\n",
    "    \n",
    "    for step in app.stream(state, stream_mode=\"values\"):\n",
    "        if \"messages\" in step:\n",
    "            print_messages(step[\"messages\"])\n",
    "    \n",
    "    print(\"\\n ===== DRAFTER FINISHED =====\")\n",
    "\n",
    "if __name__ == \"__main__\":\n",
    "    print(document_content)"
   ]
  },
  {
   "cell_type": "code",
   "execution_count": null,
   "id": "edb772ee-454b-4575-9571-36d362e7eec6",
   "metadata": {},
   "outputs": [],
   "source": []
  }
 ],
 "metadata": {
  "kernelspec": {
   "display_name": "Python 3 (ipykernel)",
   "language": "python",
   "name": "python3"
  },
  "language_info": {
   "codemirror_mode": {
    "name": "ipython",
    "version": 3
   },
   "file_extension": ".py",
   "mimetype": "text/x-python",
   "name": "python",
   "nbconvert_exporter": "python",
   "pygments_lexer": "ipython3",
   "version": "3.13.1"
  }
 },
 "nbformat": 4,
 "nbformat_minor": 5
}
